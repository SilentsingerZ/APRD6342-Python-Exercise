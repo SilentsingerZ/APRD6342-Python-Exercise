{
 "cells": [
  {
   "cell_type": "code",
   "execution_count": null,
   "metadata": {},
   "outputs": [],
   "source": [
    "#!/usr/bin/env python3\n",
    "# -*- coding: utf-8 -*-\n",
    "\"\"\"\n",
    "Created on Tue Sep 25 14:52:28 2018\n",
    "\n",
    "@author: Freddie Zhang\n",
    "\"\"\"\n",
    "\n",
    "import pandas as pd\n",
    "import statsmodels.api as sm\n",
    "import seaborn as sns\n",
    "\n",
    "# load data and preview\n",
    "df = pd.read_csv('Travel Pony Facebook.csv')\n",
    "# df.info()\n",
    "\n",
    "# 1. First, remove rows that have 0 amount spent. \n",
    "df_clean = df[(df[['Amount Spent (USD)']] != 0).all(axis=1)]\n",
    "# df_clean.info()\n",
    "\n",
    "# Next, graph a histogram of Amount Spent using Seaborn\n",
    "sns.set_style('darkgrid')\n",
    "sns.distplot(df_clean['Amount Spent (USD)'])"
   ]
  },
  {
   "cell_type": "code",
   "execution_count": null,
   "metadata": {},
   "outputs": [],
   "source": [
    "# 2. Build a multiple regression \n",
    "# where the outcome variable is Amount Spent and the predictor variables are: \n",
    "# Campaign Name,Reach,Frequency,Impressions,Clicks,Unique Clicks,Page Likes,Page Engagement,\n",
    "# Post Engagement,Post Likes,Post Comments,Post Shares,Photo Views,Website Clicks\n",
    "df_clean['Campaign Name'] = df_clean['Campaign Name'].astype('str') # set Campaign Name to strings\n",
    "df_clean['Campaign Name'] = df_clean['Campaign Name'].str.replace('[^a-zA-Z0-9:\\s+]', '') # remove _\n",
    "df_clean['Campaign Name'] = df_clean['Campaign Name'].str.replace('\\d+', '') # remove numbers\n",
    "df_clean.loc[df_clean['Campaign Name'].str.contains('travelpony', case = False), 'Campaign Name'] = 'TravelPony'\n",
    "df_clean.loc[df_clean['Campaign Name'].str.contains('post', case = False), 'Campaign Name'] = 'Post'\n",
    "campaign_name = pd.get_dummies(df_clean['Campaign Name'])\n",
    "df_clean = pd.concat([df_clean, campaign_name], axis=1)\n",
    "# df_clean.info()\n",
    "\n",
    "DV = df_clean['Amount Spent (USD)']\n",
    "IV = df_clean[['Ad ','Cyber Weekend','Nanigans','Post','SimpleMultiFillCampaign','TravelPony','Reach','Frequency','Impressions','Clicks','Unique Clicks','Page Likes','Page Engagement','Post Engagement','Post Likes','Post Comments','Post Shares','Photo Views','Website Clicks']]\n",
    "model = sm.OLS(DV, IV).fit()\n",
    "predictions = model.predict(IV) # make the predictions by the model\n",
    "model.summary()\n",
    "\n",
    "# What are the three predictors with the highest predictive value (rank them, please). p-value < 0.05\n",
    "ModelSummary = []\n",
    "ModelSummary = pd.concat([model.params, model.pvalues, ],axis=1)\n",
    "ModelSummary.columns = ['Coef', 'Pvalue']\n",
    "ModelSummary = ModelSummary[ModelSummary['Pvalue'] <= 0.05].sort_values('Coef', ascending = False)\n",
    "ModelSummary['Rank'] = ModelSummary['Coef'].rank(ascending=0).astype(int)\n",
    "ModelSummary\n",
    "\n",
    "# I removed variables with p-value > 0.05 since they are not significant. Therefore, the \n",
    "# three predictors with the highest predictive values are Page Likes(24.450740), \n",
    "# Post Enagementment(18.024142), Post Shares(4.933423)."
   ]
  }
 ],
 "metadata": {
  "kernelspec": {
   "display_name": "Python 3",
   "language": "python",
   "name": "python3"
  },
  "language_info": {
   "codemirror_mode": {
    "name": "ipython",
    "version": 3
   },
   "file_extension": ".py",
   "mimetype": "text/x-python",
   "name": "python",
   "nbconvert_exporter": "python",
   "pygments_lexer": "ipython3",
   "version": "3.6.5"
  }
 },
 "nbformat": 4,
 "nbformat_minor": 2
}
