{
 "cells": [
  {
   "cell_type": "code",
   "execution_count": null,
   "metadata": {},
   "outputs": [],
   "source": [
    "#!/usr/bin/env python3\n",
    "# -*- coding: utf-8 -*-\n",
    "\"\"\"\n",
    "Created on Tue Sep 18 13:52:20 2018\n",
    "\n",
    "@author: Freddie Zhang\n",
    "\"\"\"\n",
    "\n",
    "import pandas as pd\n",
    "import arrow\n",
    "import statsmodels.api as sm\n",
    "\n",
    "# load data and preview\n",
    "df = pd.read_csv(\"Travel Pony Facebook.csv\")\n",
    "df.info()\n",
    "\n",
    "# 1. Create the analytics 'cost per impression'\n",
    "# What day of the week works best? \n",
    "# What day of the week works worst? \n",
    "# The larger CPI is, the better the day is.\n",
    "df['Cost Per Impression'] = df['Amount Spent (USD)'] / df['Impressions']\n",
    "\n",
    "dayofweek = []\n",
    "for i, row in df.iterrows():\n",
    "    day = (arrow.get(str(df['Start Date'][i]), 'M/D/YY')).format('dddd')\n",
    "    dayofweek.append(day)\n",
    "df['Day of Week'] = dayofweek\n",
    "\n",
    "ranking = pd.DataFrame(df.groupby(['Day of Week']).mean()['Cost Per Impression'].sort_values(ascending=False)).reset_index()\n",
    "print(ranking)\n",
    "print(ranking['Day of Week'][6],\"works best.\")\n",
    "print(ranking['Day of Week'][0],\"works worst.\")"
   ]
  },
  {
   "cell_type": "code",
   "execution_count": null,
   "metadata": {},
   "outputs": [],
   "source": [
    "# 2. Compute the correlation\n",
    "print(df[['Amount Spent (USD)','Reach','Frequency','Unique Clicks','Page Likes']].corr())\n",
    "print(\"The correlation between Amount Spent and Unique Clicks is the strongest with the value of 0.882993. Practically speaking, more unique clicks will most significantly increase the amount spent. \")\n",
    "\n",
    "# 3. Perform a simple multiple regression analysis\n",
    "DV = df[\"Unique Clicks\"]\n",
    "IV = df[[\"Reach\",\"Frequency\"]]\n",
    "\n",
    "model = sm.OLS(DV, IV).fit()\n",
    "predictions = model.predict(IV) # make the predictions by the model\n",
    "\n",
    "model.summary()\n",
    "print(\"Frequency most strongly predicts unique clicks. It means as the Frequency increases by 1, the predicted value of Unique Clicks increases by 3.6139.\")"
   ]
  }
 ],
 "metadata": {
  "kernelspec": {
   "display_name": "Python 3",
   "language": "python",
   "name": "python3"
  },
  "language_info": {
   "codemirror_mode": {
    "name": "ipython",
    "version": 3
   },
   "file_extension": ".py",
   "mimetype": "text/x-python",
   "name": "python",
   "nbconvert_exporter": "python",
   "pygments_lexer": "ipython3",
   "version": "3.6.5"
  }
 },
 "nbformat": 4,
 "nbformat_minor": 2
}
