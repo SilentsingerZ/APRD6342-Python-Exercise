{
 "cells": [
  {
   "cell_type": "code",
   "execution_count": 6,
   "metadata": {},
   "outputs": [
    {
     "name": "stdout",
     "output_type": "stream",
     "text": [
      "<class 'pandas.core.frame.DataFrame'>\n",
      "RangeIndex: 3705 entries, 0 to 3704\n",
      "Data columns (total 18 columns):\n",
      "Start Date                        3705 non-null object\n",
      "End Date                          3705 non-null object\n",
      "Campaign Name                     3705 non-null object\n",
      "Reach                             3705 non-null int64\n",
      "Frequency                         3705 non-null float64\n",
      "Impressions                       3705 non-null int64\n",
      "Clicks                            3705 non-null int64\n",
      "Unique Clicks                     3705 non-null int64\n",
      "Amount Spent (USD)                3705 non-null float64\n",
      "Page Likes                        3705 non-null int64\n",
      "Page Engagement                   3705 non-null int64\n",
      "Post Engagement                   3705 non-null int64\n",
      "Post Likes                        3705 non-null int64\n",
      "Post Comments                     3705 non-null int64\n",
      "Post Shares                       3705 non-null int64\n",
      "Photo Views                       3705 non-null int64\n",
      "Website Clicks                    3705 non-null int64\n",
      "Cost per Page Engagement (USD)    3705 non-null float64\n",
      "dtypes: float64(3), int64(12), object(3)\n",
      "memory usage: 521.1+ KB\n",
      "  Day of Week  Cost Per Impression\n",
      "0      Friday             0.004097\n",
      "1      Sunday             0.003688\n",
      "2    Thursday             0.003398\n",
      "3     Tuesday             0.003040\n",
      "4   Wednesday             0.002981\n",
      "5      Monday             0.002910\n",
      "6    Saturday             0.002629\n",
      "Saturday works best.\n",
      "Friday works worst.\n"
     ]
    }
   ],
   "source": [
    "#!/usr/bin/env python3\n",
    "# -*- coding: utf-8 -*-\n",
    "\"\"\"\n",
    "Created on Tue Sep 18 13:52:20 2018\n",
    "\n",
    "@author: Freddie Zhang\n",
    "\"\"\"\n",
    "\n",
    "import pandas as pd\n",
    "import arrow\n",
    "import statsmodels.api as sm\n",
    "\n",
    "# load data and preview\n",
    "df = pd.read_csv(\"Travel Pony Facebook.csv\")\n",
    "df.info()\n",
    "\n",
    "# 1. Create the analytics 'cost per impression'\n",
    "# What day of the week works best? \n",
    "# What day of the week works worst? \n",
    "# The larger CPI is, the better the day is.\n",
    "df['Cost Per Impression'] = df['Amount Spent (USD)'] / df['Impressions']\n",
    "\n",
    "dayofweek = []\n",
    "for i, row in df.iterrows():\n",
    "    day = (arrow.get(str(df['Start Date'][i]), 'M/D/YY')).format('dddd')\n",
    "    dayofweek.append(day)\n",
    "df['Day of Week'] = dayofweek\n",
    "\n",
    "ranking = pd.DataFrame(df.groupby(['Day of Week']).mean()['Cost Per Impression'].sort_values(ascending=False)).reset_index()\n",
    "print(ranking)\n",
    "print(ranking['Day of Week'][6],\"works best.\")\n",
    "print(ranking['Day of Week'][0],\"works worst.\")"
   ]
  },
  {
   "cell_type": "code",
   "execution_count": 7,
   "metadata": {},
   "outputs": [
    {
     "name": "stdout",
     "output_type": "stream",
     "text": [
      "                    Amount Spent (USD)     Reach  Frequency  Unique Clicks  \\\n",
      "Amount Spent (USD)            1.000000  0.703124   0.130201       0.882993   \n",
      "Reach                         0.703124  1.000000   0.334101       0.722249   \n",
      "Frequency                     0.130201  0.334101   1.000000       0.135103   \n",
      "Unique Clicks                 0.882993  0.722249   0.135103       1.000000   \n",
      "Page Likes                    0.757612  0.304388   0.000182       0.584614   \n",
      "\n",
      "                    Page Likes  \n",
      "Amount Spent (USD)    0.757612  \n",
      "Reach                 0.304388  \n",
      "Frequency             0.000182  \n",
      "Unique Clicks         0.584614  \n",
      "Page Likes            1.000000  \n",
      "The correlation between Amount Spent and Unique Clicks is the strongest with the value of 0.882993. Practically speaking, more unique clicks will most significantly increase the amount spent. \n"
     ]
    }
   ],
   "source": [
    "# 2. Compute the correlation\n",
    "print(df[['Amount Spent (USD)','Reach','Frequency','Unique Clicks','Page Likes']].corr())\n",
    "print(\"The correlation between Amount Spent and Unique Clicks is the strongest with the value of 0.882993. Practically speaking, more unique clicks will most significantly increase the amount spent. \")"
   ]
  },
  {
   "cell_type": "code",
   "execution_count": 8,
   "metadata": {},
   "outputs": [
    {
     "name": "stdout",
     "output_type": "stream",
     "text": [
      "Frequency most strongly predicts unique clicks. It means as the Frequency increases by 1, the predicted value of Unique Clicks increases by 3.6139.\n"
     ]
    }
   ],
   "source": [
    "\n",
    "# 3. Perform a simple multiple regression analysis\n",
    "DV = df[\"Unique Clicks\"]\n",
    "IV = df[[\"Reach\",\"Frequency\"]]\n",
    "\n",
    "model = sm.OLS(DV, IV).fit()\n",
    "predictions = model.predict(IV) # make the predictions by the model\n",
    "\n",
    "model.summary()\n",
    "print(\"Frequency most strongly predicts unique clicks. It means as the Frequency increases by 1, the predicted value of Unique Clicks increases by 3.6139.\")"
   ]
  }
 ],
 "metadata": {
  "kernelspec": {
   "display_name": "Python 3",
   "language": "python",
   "name": "python3"
  },
  "language_info": {
   "codemirror_mode": {
    "name": "ipython",
    "version": 3
   },
   "file_extension": ".py",
   "mimetype": "text/x-python",
   "name": "python",
   "nbconvert_exporter": "python",
   "pygments_lexer": "ipython3",
   "version": "3.6.5"
  }
 },
 "nbformat": 4,
 "nbformat_minor": 2
}
